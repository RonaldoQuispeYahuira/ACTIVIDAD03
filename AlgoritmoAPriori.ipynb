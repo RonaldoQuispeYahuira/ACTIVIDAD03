{
  "nbformat": 4,
  "nbformat_minor": 0,
  "metadata": {
    "colab": {
      "name": "AlgoritmoAPriori.ipynb",
      "provenance": []
    },
    "kernelspec": {
      "name": "python3",
      "display_name": "Python 3"
    },
    "language_info": {
      "name": "python"
    }
  },
  "cells": [
    {
      "cell_type": "markdown",
      "metadata": {
        "id": "i8JJje6eB3CR"
      },
      "source": [
        "##Algoritmo a Priori\n",
        "\n",
        "\n",
        "*  Docente: Carlos Fernando Montoya Cubas\n",
        "*  Alumno: Ronaldo Quispe Yahuira"
      ]
    },
    {
      "cell_type": "markdown",
      "metadata": {
        "id": "eah0DBPFCiJ-"
      },
      "source": [
        "#Librerias"
      ]
    },
    {
      "cell_type": "code",
      "metadata": {
        "colab": {
          "base_uri": "https://localhost:8080/"
        },
        "id": "Rl2Y1bMo-vEk",
        "outputId": "16c327d6-193d-4270-fbf9-463baa91eea9"
      },
      "source": [
        "!pip install numpy\n",
        "!pip install more-itertools"
      ],
      "execution_count": 1,
      "outputs": [
        {
          "output_type": "stream",
          "name": "stdout",
          "text": [
            "Requirement already satisfied: numpy in /usr/local/lib/python3.7/dist-packages (1.19.5)\n",
            "Requirement already satisfied: more-itertools in /usr/local/lib/python3.7/dist-packages (8.11.0)\n"
          ]
        }
      ]
    },
    {
      "cell_type": "markdown",
      "metadata": {
        "id": "MJonPrBZ-5H2"
      },
      "source": [
        "#Hacemos la importacion de las sieguientes librerias"
      ]
    },
    {
      "cell_type": "code",
      "metadata": {
        "id": "Mln3TKDa_G7n"
      },
      "source": [
        "import numpy as np\n",
        "from numpy import *\n",
        "import itertools"
      ],
      "execution_count": 2,
      "outputs": []
    },
    {
      "cell_type": "markdown",
      "metadata": {
        "id": "WAJkwsXp_QE4"
      },
      "source": [
        "#Implementación del código"
      ]
    },
    {
      "cell_type": "code",
      "metadata": {
        "id": "AhM2hav3_So-"
      },
      "source": [
        "#cargamos la data\n",
        "playlists_numpy = np.load('spotify.npy',allow_pickle=True)"
      ],
      "execution_count": 9,
      "outputs": []
    },
    {
      "cell_type": "code",
      "metadata": {
        "id": "DzVhqNk0_1uO"
      },
      "source": [
        "#definimos los valores el min_support y el min_confidence\n",
        "min_support = 3 # count\n",
        "min_confidence = 0.6 # percentaje"
      ],
      "execution_count": 10,
      "outputs": []
    },
    {
      "cell_type": "code",
      "metadata": {
        "id": "dixdWsLN_3xU"
      },
      "source": [
        "#ista de playlists en formato lista de python\n",
        "playlists = list(playlists_numpy.item().values())\n",
        "playlists = playlists[:100]"
      ],
      "execution_count": 11,
      "outputs": []
    },
    {
      "cell_type": "code",
      "metadata": {
        "id": "Ae2Dkhxq_3u0"
      },
      "source": [
        "songs1 = set() # conjunto vacio"
      ],
      "execution_count": 12,
      "outputs": []
    },
    {
      "cell_type": "code",
      "metadata": {
        "id": "d6qVXVbq_3sX"
      },
      "source": [
        "#creamos un conjunto para eliminar repetidos y obtener todas las canciones\n",
        "for each_list in playlists:\n",
        "    for song in each_list:\n",
        "        songs1.add(song)"
      ],
      "execution_count": 13,
      "outputs": []
    },
    {
      "cell_type": "code",
      "metadata": {
        "colab": {
          "base_uri": "https://localhost:8080/"
        },
        "id": "-5xpKLrg_3pO",
        "outputId": "9741334c-59d0-489c-c56b-a3b1157b4d1e"
      },
      "source": [
        "#convertimos a una lista para manejarlo mas facil\n",
        "songs1 = sorted(list(songs1))\n",
        "print(\"antes\",len(songs1))"
      ],
      "execution_count": 14,
      "outputs": [
        {
          "output_type": "stream",
          "name": "stdout",
          "text": [
            "antes 5366\n"
          ]
        }
      ]
    },
    {
      "cell_type": "code",
      "metadata": {
        "id": "8gyqVYc__3fP"
      },
      "source": [
        "#creamos un diccionario vacio para saber sus counts de cada cancion -> L1\n",
        "dic_songs1 = {}\n",
        "for i in songs1:\n",
        "    dic_songs1[i] = 0"
      ],
      "execution_count": 16,
      "outputs": []
    },
    {
      "cell_type": "code",
      "metadata": {
        "id": "RHmHRFV__3Mv"
      },
      "source": [
        "#buscamos en la lista de canciones y agregamos el count de cada cancion\n",
        "for _list in playlists:\n",
        "    for i in _list:\n",
        "        dic_songs1[i] += 1"
      ],
      "execution_count": 18,
      "outputs": []
    },
    {
      "cell_type": "code",
      "metadata": {
        "id": "_y96F_iNAE1Y"
      },
      "source": [
        "# -- filtramos las canciones que no pasen el min_support para L1\n",
        "songs2del = []\n",
        "for song in songs1:\n",
        "    if dic_songs1[song] < min_support:\n",
        "        del dic_songs1[song]\n",
        "songs1 = list(dic_songs1.keys())\n",
        "songs1 = sorted(songs1)"
      ],
      "execution_count": 19,
      "outputs": []
    },
    {
      "cell_type": "code",
      "metadata": {
        "colab": {
          "base_uri": "https://localhost:8080/"
        },
        "id": "oCw8Y6ewAEzG",
        "outputId": "5f961a19-88da-4faf-e892-00a9505810f2"
      },
      "source": [
        "#mostramos con cuantas canciones nos quedamos en c1\n",
        "print(\"despues\",len(songs1)) "
      ],
      "execution_count": 20,
      "outputs": [
        {
          "output_type": "stream",
          "name": "stdout",
          "text": [
            "despues 713\n"
          ]
        }
      ]
    },
    {
      "cell_type": "code",
      "metadata": {
        "id": "unjKudZxAEwW"
      },
      "source": [
        "#hacemos la combinatoria usando itertools para llegar a C2\n",
        "songs2 = list(itertools.combinations(songs1,2))"
      ],
      "execution_count": 21,
      "outputs": []
    },
    {
      "cell_type": "code",
      "metadata": {
        "id": "gsBZY-i1AES3"
      },
      "source": [
        "#declaramos un diccionario vacio para contar\n",
        "dic_songs2 = {}\n",
        "for i in songs2:\n",
        "    dic_songs2[i] = 0"
      ],
      "execution_count": 22,
      "outputs": []
    },
    {
      "cell_type": "code",
      "metadata": {
        "id": "Tnxg8rvZAM6G"
      },
      "source": [
        "#contamos los counts de cada tupla\n",
        "for _list in playlists:\n",
        "    for tup in songs2:\n",
        "        count = 0\n",
        "        for song in tup:\n",
        "            if song in _list:\n",
        "                count += 1\n",
        "            if count == 2:\n",
        "                dic_songs2[tup] += 1"
      ],
      "execution_count": 23,
      "outputs": []
    },
    {
      "cell_type": "code",
      "metadata": {
        "colab": {
          "base_uri": "https://localhost:8080/"
        },
        "id": "kZJL_XvHAPL_",
        "outputId": "afac8e30-10b5-4b46-d96a-ef117ca5bc20"
      },
      "source": [
        "#mostramos las tuplas que superan el min_support\n",
        "_list = []\n",
        "for tup in dic_songs2:\n",
        "    if dic_songs2[tup] < 3:        \n",
        "        _list.append(tup)        \n",
        "\n",
        "for i in _list:\n",
        "    del dic_songs2[i]\n",
        "\n",
        "for song in dic_songs2:\n",
        "    print(song,' -> ',dic_songs2[song])"
      ],
      "execution_count": 24,
      "outputs": [
        {
          "output_type": "stream",
          "name": "stdout",
          "text": [
            "('1-800-273-8255', \"It's A Vibe\")  ->  3\n",
            "('1-800-273-8255', 'goosebumps')  ->  3\n",
            "(\"Ain't No Mountain High Enough\", 'My Girl')  ->  3\n",
            "(\"Ain't No Mountain High Enough\", 'Spirit In The Sky')  ->  3\n",
            "('All I Want', 'Chasing Cars')  ->  3\n",
            "('All I Want', 'Like Real People Do')  ->  3\n",
            "('Blood', 'Gravity')  ->  3\n",
            "('Bohemian Rhapsody - Remastered 2011', 'Gimme Shelter')  ->  3\n",
            "('Bohemian Rhapsody - Remastered 2011', 'Sympathy For The Devil')  ->  3\n",
            "('Bounce', 'Congratulations')  ->  3\n",
            "('Bounce', 'goosebumps')  ->  3\n",
            "('Bounce Back', 'Congratulations')  ->  3\n",
            "('Bounce Back', 'THat Part')  ->  3\n",
            "('Bounce Back', 'goosebumps')  ->  3\n",
            "('Congratulations', 'Losin Control')  ->  3\n",
            "('Congratulations', 'THat Part')  ->  3\n",
            "('Congratulations', 'goosebumps')  ->  4\n",
            "('Deja Vu', 'THat Part')  ->  3\n",
            "('Deja Vu', 'XO TOUR Llif3')  ->  3\n",
            "('Deja Vu', 'goosebumps')  ->  3\n",
            "('Drama (feat. Drake)', 'Exchange')  ->  3\n",
            "('Free Bird', 'Sympathy For The Devil')  ->  3\n",
            "('Gimme Shelter', 'Sympathy For The Devil')  ->  3\n",
            "('I Fall Apart', 'Same Drugs')  ->  3\n",
            "('I Want You Back', 'My Girl')  ->  3\n",
            "('Issues', 'Losin Control')  ->  3\n",
            "('Let Me Explain', 'Right My Wrongs')  ->  3\n",
            "('Losin Control', 'What They Want')  ->  3\n",
            "('Losin Control', 'goosebumps')  ->  3\n",
            "('My Girl', 'Spirit In The Sky')  ->  3\n",
            "('No Role Modelz', 'Stronger')  ->  3\n",
            "('THat Part', 'XO TOUR Llif3')  ->  3\n",
            "('THat Part', 'goosebumps')  ->  4\n",
            "('XO TOUR Llif3', 'goosebumps')  ->  3\n"
          ]
        }
      ]
    }
  ]
}